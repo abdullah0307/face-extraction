{
 "cells": [
  {
   "cell_type": "code",
   "execution_count": 2,
   "metadata": {},
   "outputs": [
    {
     "name": "stdout",
     "output_type": "stream",
     "text": [
      "done\n"
     ]
    }
   ],
   "source": [
    "# the program will extract the faces from the images\n",
    "import cv2\n",
    "import sys\n",
    "import os\n",
    "\n",
    "count=0\n",
    "\n",
    "harcascadePath = \"haarcascade_frontalface_default.xml\"\n",
    "detector = cv2.CascadeClassifier(harcascadePath)\n",
    "path = \"C:/Users/User/Documents/GitHub/faces extractors/target_folder\"\n",
    "imagePaths = [os.path.join(path,f) for f in os.listdir(path)]\n",
    "try:\n",
    "    for path in imagePaths:\n",
    "        image = cv2.imread(path)\n",
    "        gray = cv2.cvtColor(image, cv2.COLOR_BGR2GRAY)\n",
    "        faces = detector.detectMultiScale(gray, 1.3, 5)\n",
    "        if faces is not ():\n",
    "            for (x,y,w,h) in faces:\n",
    "                #cv2.rectangle(image,(x,y),(x+w,y+h),(0,255,0),1,1)\n",
    "                face = image[y-50:y+h+50,x-50:x+w+50]\n",
    "                count += 1\n",
    "                cv2.imwrite(\"C:/Users/User/Documents/GitHub/faces extractors/faces/\"+\"face\"+str(count)+\".jpg\",face)\n",
    "except:\n",
    "    print(\"Oops!\", sys.exc_info()[0], \"occured.\")        \n",
    "print(\"done\")"
   ]
  },
  {
   "cell_type": "code",
   "execution_count": 15,
   "metadata": {},
   "outputs": [
    {
     "name": "stdout",
     "output_type": "stream",
     "text": [
      "C:/Users/User/Documents/GitHub/faces extractors/target_folder/IMG-20181017-WA0040.jpg\n",
      "C:/Users/User/Documents/GitHub/faces extractors/target_folder/IMG-20181017-WA0041.jpg\n",
      "C:/Users/User/Documents/GitHub/faces extractors/target_folder/IMG-20181017-WA0042.jpg\n",
      "C:/Users/User/Documents/GitHub/faces extractors/target_folder/solvay_conference.jpg\n",
      "done\n"
     ]
    }
   ],
   "source": [
    "# images reading\n",
    "import cv2\n",
    "# os and sys for path findings\n",
    "import sys,os\n",
    "import matplotlib.pyplot as plt\n",
    "\n",
    "path = \"C:/Users/User/Documents/GitHub/faces extractors/target_folder/\"\n",
    "imagePaths = [os.path.join(path,f) for f in os.listdir(path)]\n",
    "detector = cv2.CascadeClassifier(\"haarcascade_frontalface_default.xml\")\n",
    "count = 0\n",
    "\n",
    "for path in imagePaths:\n",
    "    print(path)\n",
    "    image = cv2.imread(path)\n",
    "    gray = cv2.cvtColor(image,cv2.COLOR_BGR2GRAY)\n",
    "    faces = detector.detectMultiScale(gray,1.3,5)\n",
    "    if faces is not ():\n",
    "        for (x,y,w,h) in faces:\n",
    "            face = image[y:y+h,x:x+w]\n",
    "            count += 1\n",
    "            cv2.imwrite(\"faces/\"+str(count)+\".jpg\",face)      \n",
    "print(\"done\")"
   ]
  },
  {
   "cell_type": "code",
   "execution_count": 34,
   "metadata": {},
   "outputs": [
    {
     "name": "stdout",
     "output_type": "stream",
     "text": [
      "Oops! <class 'cv2.error'> occured.\n",
      "done\n"
     ]
    }
   ],
   "source": [
    "# dataset faces cleaner\n",
    "import cv2\n",
    "import matplotlib.pyplot as plt\n",
    "import sys\n",
    "import os\n",
    "import numpy as np\n",
    "\n",
    "count=0\n",
    "harcascadePath = \"haarcascade_frontalface_default.xml\"\n",
    "detector=cv2.CascadeClassifier(harcascadePath)\n",
    "path = \"C:/Users/User/Documents/GitHub/faces extractors/faces\"\n",
    "imagePaths=[os.path.join(path,f) for f in os.listdir(path)]\n",
    "#kernel = np.ones((5,5),np.uint8)\n",
    "try:\n",
    "    for path in imagePaths:\n",
    "        image = cv2.imread(path)\n",
    "        gray = cv2.cvtColor(image,cv2.COLOR_BGR2GRAY)\n",
    "        faces = detector.detectMultiScale(gray,1.3, 5)\n",
    "        if faces is ():\n",
    "            os.remove(path)\n",
    "except:\n",
    "    print(\"Oops!\", sys.exc_info()[0], \"occured.\")        \n",
    "print(\"done\")"
   ]
  }
 ],
 "metadata": {
  "kernelspec": {
   "display_name": "Python 3",
   "language": "python",
   "name": "python3"
  },
  "language_info": {
   "codemirror_mode": {
    "name": "ipython",
    "version": 3
   },
   "file_extension": ".py",
   "mimetype": "text/x-python",
   "name": "python",
   "nbconvert_exporter": "python",
   "pygments_lexer": "ipython3",
   "version": "3.6.6"
  }
 },
 "nbformat": 4,
 "nbformat_minor": 2
}
